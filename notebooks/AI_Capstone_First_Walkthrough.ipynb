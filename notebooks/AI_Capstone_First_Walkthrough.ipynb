{
  "nbformat": 4,
  "nbformat_minor": 0,
  "metadata": {
    "colab": {
      "provenance": []
    },
    "kernelspec": {
      "name": "python3",
      "display_name": "Python 3"
    },
    "language_info": {
      "name": "python"
    }
  },
  "cells": [
    {
      "cell_type": "markdown",
      "source": [
        "# A First Walkthrough"
      ],
      "metadata": {
        "id": "HwztC01T5T93"
      }
    },
    {
      "cell_type": "markdown",
      "source": [
        "## Dependencies and Keys"
      ],
      "metadata": {
        "id": "gKB-8rHzm5pw"
      }
    },
    {
      "cell_type": "markdown",
      "source": [
        "### Nest Asyncio"
      ],
      "metadata": {
        "id": "zMJGEsMmoUL_"
      }
    },
    {
      "cell_type": "code",
      "source": [
        "import nest_asyncio\n",
        "\n",
        "nest_asyncio.apply()"
      ],
      "metadata": {
        "id": "nqH8OWbBocwr"
      },
      "execution_count": 1,
      "outputs": []
    },
    {
      "cell_type": "markdown",
      "source": [
        "### Install Dependencies"
      ],
      "metadata": {
        "id": "DDz27D0hm6GT"
      }
    },
    {
      "cell_type": "code",
      "source": [
        "!pip uninstall -qy unstructured"
      ],
      "metadata": {
        "id": "1Qw4V6v7HHO-"
      },
      "execution_count": 22,
      "outputs": []
    },
    {
      "cell_type": "code",
      "source": [
        "!pip install -qU faiss-cpu unstructured \"unstructured[pdf]\" tiktoken"
      ],
      "metadata": {
        "colab": {
          "base_uri": "https://localhost:8080/"
        },
        "id": "zp-Eiml9oQRM",
        "outputId": "22bba789-b895-41bd-f66a-fc02998562fa"
      },
      "execution_count": 2,
      "outputs": [
        {
          "output_type": "stream",
          "name": "stdout",
          "text": [
            "\u001b[2K     \u001b[90m━━━━━━━━━━━━━━━━━━━━━━━━━━━━━━━━━━━━━━━━\u001b[0m \u001b[32m27.0/27.0 MB\u001b[0m \u001b[31m41.0 MB/s\u001b[0m eta \u001b[36m0:00:00\u001b[0m\n",
            "\u001b[2K     \u001b[90m━━━━━━━━━━━━━━━━━━━━━━━━━━━━━━━━━━━━━━━━\u001b[0m \u001b[32m1.9/1.9 MB\u001b[0m \u001b[31m31.7 MB/s\u001b[0m eta \u001b[36m0:00:00\u001b[0m\n",
            "\u001b[2K     \u001b[90m━━━━━━━━━━━━━━━━━━━━━━━━━━━━━━━━━━━━━━━━\u001b[0m \u001b[32m1.8/1.8 MB\u001b[0m \u001b[31m71.9 MB/s\u001b[0m eta \u001b[36m0:00:00\u001b[0m\n",
            "\u001b[2K     \u001b[90m━━━━━━━━━━━━━━━━━━━━━━━━━━━━━━━━━━━━━━━━\u001b[0m \u001b[32m433.8/433.8 kB\u001b[0m \u001b[31m40.3 MB/s\u001b[0m eta \u001b[36m0:00:00\u001b[0m\n",
            "\u001b[2K     \u001b[90m━━━━━━━━━━━━━━━━━━━━━━━━━━━━━━━━━━━━━━━━\u001b[0m \u001b[32m274.7/274.7 kB\u001b[0m \u001b[31m33.1 MB/s\u001b[0m eta \u001b[36m0:00:00\u001b[0m\n",
            "\u001b[2K     \u001b[90m━━━━━━━━━━━━━━━━━━━━━━━━━━━━━━━━━━━━━━━━\u001b[0m \u001b[32m981.5/981.5 kB\u001b[0m \u001b[31m60.6 MB/s\u001b[0m eta \u001b[36m0:00:00\u001b[0m\n",
            "\u001b[?25h  Preparing metadata (setup.py) ... \u001b[?25l\u001b[?25hdone\n",
            "\u001b[2K     \u001b[90m━━━━━━━━━━━━━━━━━━━━━━━━━━━━━━━━━━━━━━━━\u001b[0m \u001b[32m3.4/3.4 MB\u001b[0m \u001b[31m68.0 MB/s\u001b[0m eta \u001b[36m0:00:00\u001b[0m\n",
            "\u001b[2K     \u001b[90m━━━━━━━━━━━━━━━━━━━━━━━━━━━━━━━━━━━━━━━━\u001b[0m \u001b[32m15.9/15.9 MB\u001b[0m \u001b[31m81.4 MB/s\u001b[0m eta \u001b[36m0:00:00\u001b[0m\n",
            "\u001b[2K     \u001b[90m━━━━━━━━━━━━━━━━━━━━━━━━━━━━━━━━━━━━━━━━\u001b[0m \u001b[32m5.6/5.6 MB\u001b[0m \u001b[31m96.5 MB/s\u001b[0m eta \u001b[36m0:00:00\u001b[0m\n",
            "\u001b[2K     \u001b[90m━━━━━━━━━━━━━━━━━━━━━━━━━━━━━━━━━━━━━━━━\u001b[0m \u001b[32m2.4/2.4 MB\u001b[0m \u001b[31m84.7 MB/s\u001b[0m eta \u001b[36m0:00:00\u001b[0m\n",
            "\u001b[2K     \u001b[90m━━━━━━━━━━━━━━━━━━━━━━━━━━━━━━━━━━━━━━━━\u001b[0m \u001b[32m7.5/7.5 MB\u001b[0m \u001b[31m93.4 MB/s\u001b[0m eta \u001b[36m0:00:00\u001b[0m\n",
            "\u001b[2K     \u001b[90m━━━━━━━━━━━━━━━━━━━━━━━━━━━━━━━━━━━━━━━━\u001b[0m \u001b[32m290.4/290.4 kB\u001b[0m \u001b[31m29.5 MB/s\u001b[0m eta \u001b[36m0:00:00\u001b[0m\n",
            "\u001b[2K     \u001b[90m━━━━━━━━━━━━━━━━━━━━━━━━━━━━━━━━━━━━━━━━\u001b[0m \u001b[32m59.5/59.5 kB\u001b[0m \u001b[31m6.2 MB/s\u001b[0m eta \u001b[36m0:00:00\u001b[0m\n",
            "\u001b[2K     \u001b[90m━━━━━━━━━━━━━━━━━━━━━━━━━━━━━━━━━━━━━━━━\u001b[0m \u001b[32m459.6/459.6 kB\u001b[0m \u001b[31m3.1 MB/s\u001b[0m eta \u001b[36m0:00:00\u001b[0m\n",
            "\u001b[2K     \u001b[90m━━━━━━━━━━━━━━━━━━━━━━━━━━━━━━━━━━━━━━━━\u001b[0m \u001b[32m19.2/19.2 MB\u001b[0m \u001b[31m49.8 MB/s\u001b[0m eta \u001b[36m0:00:00\u001b[0m\n",
            "\u001b[2K     \u001b[90m━━━━━━━━━━━━━━━━━━━━━━━━━━━━━━━━━━━━━━━━\u001b[0m \u001b[32m6.8/6.8 MB\u001b[0m \u001b[31m69.8 MB/s\u001b[0m eta \u001b[36m0:00:00\u001b[0m\n",
            "\u001b[2K     \u001b[90m━━━━━━━━━━━━━━━━━━━━━━━━━━━━━━━━━━━━━━━━\u001b[0m \u001b[32m49.3/49.3 kB\u001b[0m \u001b[31m6.2 MB/s\u001b[0m eta \u001b[36m0:00:00\u001b[0m\n",
            "\u001b[2K     \u001b[90m━━━━━━━━━━━━━━━━━━━━━━━━━━━━━━━━━━━━━━━━\u001b[0m \u001b[32m4.5/4.5 MB\u001b[0m \u001b[31m82.2 MB/s\u001b[0m eta \u001b[36m0:00:00\u001b[0m\n",
            "\u001b[2K     \u001b[90m━━━━━━━━━━━━━━━━━━━━━━━━━━━━━━━━━━━━━━━━\u001b[0m \u001b[32m80.8/80.8 kB\u001b[0m \u001b[31m11.7 MB/s\u001b[0m eta \u001b[36m0:00:00\u001b[0m\n",
            "\u001b[2K     \u001b[90m━━━━━━━━━━━━━━━━━━━━━━━━━━━━━━━━━━━━━━━━\u001b[0m \u001b[32m46.0/46.0 kB\u001b[0m \u001b[31m5.6 MB/s\u001b[0m eta \u001b[36m0:00:00\u001b[0m\n",
            "\u001b[2K     \u001b[90m━━━━━━━━━━━━━━━━━━━━━━━━━━━━━━━━━━━━━━━━\u001b[0m \u001b[32m42.2/42.2 kB\u001b[0m \u001b[31m5.5 MB/s\u001b[0m eta \u001b[36m0:00:00\u001b[0m\n",
            "\u001b[?25h  Preparing metadata (setup.py) ... \u001b[?25l\u001b[?25hdone\n",
            "\u001b[2K     \u001b[90m━━━━━━━━━━━━━━━━━━━━━━━━━━━━━━━━━━━━━━━━\u001b[0m \u001b[32m56.4/56.4 kB\u001b[0m \u001b[31m7.0 MB/s\u001b[0m eta \u001b[36m0:00:00\u001b[0m\n",
            "\u001b[2K     \u001b[90m━━━━━━━━━━━━━━━━━━━━━━━━━━━━━━━━━━━━━━━━\u001b[0m \u001b[32m112.5/112.5 kB\u001b[0m \u001b[31m15.4 MB/s\u001b[0m eta \u001b[36m0:00:00\u001b[0m\n",
            "\u001b[2K     \u001b[90m━━━━━━━━━━━━━━━━━━━━━━━━━━━━━━━━━━━━━━━━\u001b[0m \u001b[32m86.8/86.8 kB\u001b[0m \u001b[31m11.3 MB/s\u001b[0m eta \u001b[36m0:00:00\u001b[0m\n",
            "\u001b[2K     \u001b[90m━━━━━━━━━━━━━━━━━━━━━━━━━━━━━━━━━━━━━━━━\u001b[0m \u001b[32m2.2/2.2 MB\u001b[0m \u001b[31m74.4 MB/s\u001b[0m eta \u001b[36m0:00:00\u001b[0m\n",
            "\u001b[2K     \u001b[90m━━━━━━━━━━━━━━━━━━━━━━━━━━━━━━━━━━━━━━━━\u001b[0m \u001b[32m79.5/79.5 kB\u001b[0m \u001b[31m11.2 MB/s\u001b[0m eta \u001b[36m0:00:00\u001b[0m\n",
            "\u001b[2K     \u001b[90m━━━━━━━━━━━━━━━━━━━━━━━━━━━━━━━━━━━━━━━━\u001b[0m \u001b[32m2.8/2.8 MB\u001b[0m \u001b[31m73.9 MB/s\u001b[0m eta \u001b[36m0:00:00\u001b[0m\n",
            "\u001b[2K     \u001b[90m━━━━━━━━━━━━━━━━━━━━━━━━━━━━━━━━━━━━━━━━\u001b[0m \u001b[32m117.0/117.0 kB\u001b[0m \u001b[31m16.3 MB/s\u001b[0m eta \u001b[36m0:00:00\u001b[0m\n",
            "\u001b[?25h  Preparing metadata (setup.py) ... \u001b[?25l\u001b[?25hdone\n",
            "  Building wheel for langdetect (setup.py) ... \u001b[?25l\u001b[?25hdone\n",
            "  Building wheel for iopath (setup.py) ... \u001b[?25l\u001b[?25hdone\n",
            "  Building wheel for antlr4-python3-runtime (setup.py) ... \u001b[?25l\u001b[?25hdone\n",
            "\u001b[31mERROR: pip's dependency resolver does not currently take into account all the packages that are installed. This behaviour is the source of the following dependency conflicts.\n",
            "imageio 2.31.6 requires pillow<10.1.0,>=8.3.2, but you have pillow 10.3.0 which is incompatible.\u001b[0m\u001b[31m\n",
            "\u001b[0m"
          ]
        }
      ]
    },
    {
      "cell_type": "code",
      "source": [
        "!pip install -qU langchain langchain-core langchain-community langchain-openai"
      ],
      "metadata": {
        "id": "uZJ6AIUs3c4j",
        "colab": {
          "base_uri": "https://localhost:8080/"
        },
        "outputId": "68fb2439-d256-4d02-c740-15efe540df8c"
      },
      "execution_count": 3,
      "outputs": [
        {
          "output_type": "stream",
          "name": "stdout",
          "text": [
            "\u001b[2K     \u001b[90m━━━━━━━━━━━━━━━━━━━━━━━━━━━━━━━━━━━━━━━━\u001b[0m \u001b[32m1.0/1.0 MB\u001b[0m \u001b[31m5.2 MB/s\u001b[0m eta \u001b[36m0:00:00\u001b[0m\n",
            "\u001b[2K     \u001b[90m━━━━━━━━━━━━━━━━━━━━━━━━━━━━━━━━━━━━━━━━\u001b[0m \u001b[32m302.9/302.9 kB\u001b[0m \u001b[31m12.9 MB/s\u001b[0m eta \u001b[36m0:00:00\u001b[0m\n",
            "\u001b[2K     \u001b[90m━━━━━━━━━━━━━━━━━━━━━━━━━━━━━━━━━━━━━━━━\u001b[0m \u001b[32m2.0/2.0 MB\u001b[0m \u001b[31m20.8 MB/s\u001b[0m eta \u001b[36m0:00:00\u001b[0m\n",
            "\u001b[2K     \u001b[90m━━━━━━━━━━━━━━━━━━━━━━━━━━━━━━━━━━━━━━━━\u001b[0m \u001b[32m121.0/121.0 kB\u001b[0m \u001b[31m17.7 MB/s\u001b[0m eta \u001b[36m0:00:00\u001b[0m\n",
            "\u001b[2K     \u001b[90m━━━━━━━━━━━━━━━━━━━━━━━━━━━━━━━━━━━━━━━━\u001b[0m \u001b[32m53.0/53.0 kB\u001b[0m \u001b[31m6.6 MB/s\u001b[0m eta \u001b[36m0:00:00\u001b[0m\n",
            "\u001b[2K     \u001b[90m━━━━━━━━━━━━━━━━━━━━━━━━━━━━━━━━━━━━━━━━\u001b[0m \u001b[32m320.1/320.1 kB\u001b[0m \u001b[31m18.8 MB/s\u001b[0m eta \u001b[36m0:00:00\u001b[0m\n",
            "\u001b[2K     \u001b[90m━━━━━━━━━━━━━━━━━━━━━━━━━━━━━━━━━━━━━━━━\u001b[0m \u001b[32m142.5/142.5 kB\u001b[0m \u001b[31m1.6 MB/s\u001b[0m eta \u001b[36m0:00:00\u001b[0m\n",
            "\u001b[2K     \u001b[90m━━━━━━━━━━━━━━━━━━━━━━━━━━━━━━━━━━━━━━━━\u001b[0m \u001b[32m75.6/75.6 kB\u001b[0m \u001b[31m7.6 MB/s\u001b[0m eta \u001b[36m0:00:00\u001b[0m\n",
            "\u001b[2K     \u001b[90m━━━━━━━━━━━━━━━━━━━━━━━━━━━━━━━━━━━━━━━━\u001b[0m \u001b[32m77.9/77.9 kB\u001b[0m \u001b[31m6.8 MB/s\u001b[0m eta \u001b[36m0:00:00\u001b[0m\n",
            "\u001b[2K     \u001b[90m━━━━━━━━━━━━━━━━━━━━━━━━━━━━━━━━━━━━━━━━\u001b[0m \u001b[32m58.3/58.3 kB\u001b[0m \u001b[31m6.9 MB/s\u001b[0m eta \u001b[36m0:00:00\u001b[0m\n",
            "\u001b[?25h"
          ]
        }
      ]
    },
    {
      "cell_type": "markdown",
      "source": [
        "### Load Keys and Tokens"
      ],
      "metadata": {
        "id": "cJ8leSUbm6jv"
      }
    },
    {
      "cell_type": "code",
      "source": [
        "# load openai api key\n",
        "import os\n",
        "from getpass import getpass\n",
        "\n",
        "os.environ['OPENAI_API_KEY'] = getpass('OpenAI API Key:')"
      ],
      "metadata": {
        "colab": {
          "base_uri": "https://localhost:8080/"
        },
        "id": "1DkoXr9ztrM-",
        "outputId": "710c5331-9d7e-4287-d97b-364c531b71d1"
      },
      "execution_count": 4,
      "outputs": [
        {
          "name": "stdout",
          "output_type": "stream",
          "text": [
            "OpenAI API Key:··········\n"
          ]
        }
      ]
    },
    {
      "cell_type": "markdown",
      "source": [
        "## Loading Data"
      ],
      "metadata": {
        "id": "z0VWSO8hm614"
      }
    },
    {
      "cell_type": "code",
      "source": [
        "!pip install -qU gdown"
      ],
      "metadata": {
        "id": "oirO_3u16ox1"
      },
      "execution_count": 5,
      "outputs": []
    },
    {
      "cell_type": "markdown",
      "source": [
        "Load training data"
      ],
      "metadata": {
        "id": "fSoXAO-iy4KS"
      }
    },
    {
      "cell_type": "code",
      "source": [
        "!gdown 1gaWqbHpKRM3M-h3MD_V5qjIaiR9T670J"
      ],
      "metadata": {
        "colab": {
          "base_uri": "https://localhost:8080/"
        },
        "id": "RPqtF7zP15ne",
        "outputId": "3e652b7f-1082-43ce-f1cf-9d6af6cda49e"
      },
      "execution_count": 6,
      "outputs": [
        {
          "output_type": "stream",
          "name": "stdout",
          "text": [
            "Downloading...\n",
            "From: https://drive.google.com/uc?id=1gaWqbHpKRM3M-h3MD_V5qjIaiR9T670J\n",
            "To: /content/Insurance Policies Train.zip\n",
            "100% 6.97M/6.97M [00:00<00:00, 34.6MB/s]\n"
          ]
        }
      ]
    },
    {
      "cell_type": "markdown",
      "source": [
        "Load test data"
      ],
      "metadata": {
        "id": "xgx-BhqRy8zs"
      }
    },
    {
      "cell_type": "code",
      "source": [
        "!gdown 1ghcaOK33V9tWAeqkDCYMKB4cfvtRpckx"
      ],
      "metadata": {
        "colab": {
          "base_uri": "https://localhost:8080/"
        },
        "id": "UbNf-JEWy-z_",
        "outputId": "9e8bd2e1-41b5-4081-dd5b-91583893328b"
      },
      "execution_count": 7,
      "outputs": [
        {
          "output_type": "stream",
          "name": "stdout",
          "text": [
            "Downloading...\n",
            "From: https://drive.google.com/uc?id=1ghcaOK33V9tWAeqkDCYMKB4cfvtRpckx\n",
            "To: /content/Insurance Policies Test.zip\n",
            "\r  0% 0.00/1.51M [00:00<?, ?B/s]\r 70% 1.05M/1.51M [00:00<00:00, 8.87MB/s]\r100% 1.51M/1.51M [00:00<00:00, 11.5MB/s]\n"
          ]
        }
      ]
    },
    {
      "cell_type": "markdown",
      "source": [
        "Unzipping files..."
      ],
      "metadata": {
        "id": "y742FoM38daC"
      }
    },
    {
      "cell_type": "code",
      "source": [
        "!unzip \"Insurance Policies Train.zip\" -d ./policies\n",
        "!unzip \"Insurance Policies Test.zip\" -d ./policies"
      ],
      "metadata": {
        "colab": {
          "base_uri": "https://localhost:8080/"
        },
        "id": "p2fbJPiZzvXn",
        "outputId": "9266e526-f15e-42b1-f4fe-f6eb60df7203"
      },
      "execution_count": 8,
      "outputs": [
        {
          "output_type": "stream",
          "name": "stdout",
          "text": [
            "Archive:  Insurance Policies Train.zip\n",
            "  inflating: ./policies/1 pds-pol-word-business-25-05-2012.pdf  \n",
            "  inflating: ./policies/__MACOSX/._1 pds-pol-word-business-25-05-2012.pdf  \n",
            "  inflating: ./policies/2 NMDMG10249.pdf  \n",
            "  inflating: ./policies/__MACOSX/._2 NMDMG10249.pdf  \n",
            "  inflating: ./policies/3 NHDHG6080.pdf  \n",
            "  inflating: ./policies/__MACOSX/._3 NHDHG6080.pdf  \n",
            "  inflating: ./policies/4 AU127-1.pdf  \n",
            "  inflating: ./policies/__MACOSX/._4 AU127-1.pdf  \n",
            "  inflating: ./policies/5 B2C_Comprehensive_Cert_EN_Nov_2014_Final.pdf  \n",
            "  inflating: ./policies/__MACOSX/._5 B2C_Comprehensive_Cert_EN_Nov_2014_Final.pdf  \n",
            "  inflating: ./policies/6 PARTICIPANT_GUIDE_INSURANCE.pdf  \n",
            "  inflating: ./policies/__MACOSX/._6 PARTICIPANT_GUIDE_INSURANCE.pdf  \n",
            "  inflating: ./policies/7 vero-enterprise-business-insurance-pds-policy-wording.pdf  \n",
            "  inflating: ./policies/__MACOSX/._7 vero-enterprise-business-insurance-pds-policy-wording.pdf  \n",
            "  inflating: ./policies/8 business-insurance-policy.pdf  \n",
            "  inflating: ./policies/__MACOSX/._8 business-insurance-policy.pdf  \n",
            "  inflating: ./policies/9 business-insurance-policy-wording.pdf  \n",
            "  inflating: ./policies/__MACOSX/._9 business-insurance-policy-wording.pdf  \n",
            "  inflating: ./policies/10 small-business-guide.pdf  \n",
            "  inflating: ./policies/__MACOSX/._10 small-business-guide.pdf  \n",
            "  inflating: ./policies/11 State_Car_Comprehensive_PW.pdf  \n",
            "  inflating: ./policies/__MACOSX/._11 State_Car_Comprehensive_PW.pdf  \n",
            "  inflating: ./policies/12 homeinsurance-policy-form-june2017.pdf  \n",
            "  inflating: ./policies/__MACOSX/._12 homeinsurance-policy-form-june2017.pdf  \n",
            "Archive:  Insurance Policies Test.zip\n",
            "  inflating: ./policies/13 Home-insurance-policy-booklet-before-June-2012.PDF  \n",
            "  inflating: ./policies/__MACOSX/._13 Home-insurance-policy-booklet-before-June-2012.PDF  \n",
            "  inflating: ./policies/14 policy.pdf  \n",
            "  inflating: ./policies/__MACOSX/._14 policy.pdf  \n",
            "  inflating: ./policies/15 Barclays_BARTRVPD_07-16.pdf  \n",
            "  inflating: ./policies/__MACOSX/._15 Barclays_BARTRVPD_07-16.pdf  \n"
          ]
        }
      ]
    },
    {
      "cell_type": "markdown",
      "source": [
        "## LangChain RAG"
      ],
      "metadata": {
        "id": "IAlTDQ4W8icY"
      }
    },
    {
      "cell_type": "code",
      "source": [
        "POLICY_PATH = \"./policies/8 business-insurance-policy.pdf\""
      ],
      "metadata": {
        "id": "CZA7iYxdQyQs"
      },
      "execution_count": 15,
      "outputs": []
    },
    {
      "cell_type": "code",
      "source": [
        "from langchain_community.document_loaders import PyPDFLoader\n",
        "from langchain_community.vectorstores import FAISS\n",
        "from langchain.text_splitter import RecursiveCharacterTextSplitter\n",
        "from langchain_openai.embeddings import OpenAIEmbeddings\n",
        "\n",
        "# load documents\n",
        "loader = PyPDFLoader(POLICY_PATH)\n",
        "documents = loader.load()\n",
        "\n",
        "# split docs into chunks\n",
        "splitter = RecursiveCharacterTextSplitter(chunk_size=1000, chunk_overlap=100)\n",
        "docs = splitter.split_documents(documents)\n",
        "\n",
        "# instantiate the embedding model\n",
        "embedding = OpenAIEmbeddings(model=\"text-embedding-3-small\")\n",
        "\n",
        "# create vectorstore\n",
        "vector_store = FAISS.from_documents(docs, embedding)\n",
        "\n",
        "# instantiate the retriever\n",
        "retriever = vector_store.as_retriever()"
      ],
      "metadata": {
        "id": "4JogjyEx8TMw"
      },
      "execution_count": 16,
      "outputs": []
    },
    {
      "cell_type": "code",
      "source": [
        "from langchain_core.prompts import ChatPromptTemplate\n",
        "\n",
        "# rag prompt template\n",
        "RAG_PROMPT = \"\"\"\n",
        "Context:\n",
        "{context}\n",
        "\n",
        "Question:\n",
        "{question}\n",
        "\n",
        "Answer the query above using only the given context. If you do not know the answer, simply say 'I don't know.'\n",
        "\"\"\"\n",
        "\n",
        "# instantiate rag prompt\n",
        "rag_prompt = ChatPromptTemplate.from_template(RAG_PROMPT)"
      ],
      "metadata": {
        "id": "wcJTIoL5DfJq"
      },
      "execution_count": 18,
      "outputs": []
    },
    {
      "cell_type": "code",
      "source": [
        "from operator import itemgetter\n",
        "from langchain_core.runnables import RunnablePassthrough\n",
        "from langchain_core.output_parsers import StrOutputParser\n",
        "from langchain_openai import ChatOpenAI\n",
        "\n",
        "# import chat model\n",
        "chat_model = ChatOpenAI(model=\"gpt-3.5-turbo\")\n",
        "\n",
        "# build the rag chain\n",
        "rag_chain = (\n",
        "    {\"question\": itemgetter(\"question\"), \"context\": itemgetter(\"question\") | retriever}\n",
        "    | RunnablePassthrough().assign(context=itemgetter(\"context\"))\n",
        "    | {\"response\": rag_prompt | chat_model | StrOutputParser(), \"context\": itemgetter(\"context\")}\n",
        ")"
      ],
      "metadata": {
        "id": "Jfh_7TVycps1"
      },
      "execution_count": 20,
      "outputs": []
    },
    {
      "cell_type": "markdown",
      "source": [
        "## Testing our RAG Chain"
      ],
      "metadata": {
        "id": "jFvd4Q4NfW9-"
      }
    },
    {
      "cell_type": "code",
      "source": [
        "POLICY_PROMPT = \"\"\"Extract the following information from the policy and use the same format to output the answer.\n",
        "\n",
        "## Who's Covered?\n",
        "<parties that are covered by the policy>\n",
        "\n",
        "## When?\n",
        "<the coverage period>\n",
        "\n",
        "## Against What?\n",
        "<What the policy covers>\n",
        "\n",
        "## For how much?\n",
        "<Summary of coverage limits>\n",
        "\n",
        "## Used or new?\n",
        "<Info related to cost of repair and replacement>\n",
        "\"\"\""
      ],
      "metadata": {
        "id": "5PyXF26ZevYB"
      },
      "execution_count": null,
      "outputs": []
    },
    {
      "cell_type": "code",
      "source": [
        "response = rag_chain.invoke({\"question\": \"Who's covered?\"})\n",
        "print(response[\"response\"])"
      ],
      "metadata": {
        "colab": {
          "base_uri": "https://localhost:8080/"
        },
        "id": "uLPPIJrEe-wh",
        "outputId": "56531997-3f06-4348-e1f1-151f08197c62"
      },
      "execution_count": 21,
      "outputs": [
        {
          "output_type": "stream",
          "name": "stdout",
          "text": [
            "The cover section is extended to directors, executive officers, employees, voluntary unpaid workers, office bearers, members of canteen, social, or sports organizations, medical persons, fire or ambulance services, directors or senior executives, and principals.\n"
          ]
        }
      ]
    },
    {
      "cell_type": "code",
      "source": [
        "response = rag_chain.invoke({\"question\": \"When is the coverage period?\"})\n",
        "print(response[\"response\"])"
      ],
      "metadata": {
        "colab": {
          "base_uri": "https://localhost:8080/"
        },
        "outputId": "90089489-2891-42fd-ae4f-c5b95fa5eb94",
        "id": "v8_gKqiFiFKY"
      },
      "execution_count": 22,
      "outputs": [
        {
          "output_type": "stream",
          "name": "stdout",
          "text": [
            "The coverage period is determined by the indemnity period, which ends on the day the business is permanently closed unless agreed upon in writing to continue the period.\n"
          ]
        }
      ]
    },
    {
      "cell_type": "code",
      "source": [
        "response = rag_chain.invoke({\"question\": \"What does the policy cover?\"})\n",
        "print(response[\"response\"])"
      ],
      "metadata": {
        "colab": {
          "base_uri": "https://localhost:8080/"
        },
        "outputId": "0cff3e0e-5bbc-444c-9bb6-cab8c8eaa304",
        "id": "iv6yqJ7riFWg"
      },
      "execution_count": 27,
      "outputs": [
        {
          "output_type": "stream",
          "name": "stdout",
          "text": [
            "The policy covers loss, damage, destruction, death, personal injury, illness, liability, cost, and expenses caused by various circumstances as outlined in the policy document.\n"
          ]
        }
      ]
    },
    {
      "cell_type": "code",
      "source": [
        "response = rag_chain.invoke({\"question\": \"What is the cost of coverage?\"})\n",
        "print(response[\"response\"])"
      ],
      "metadata": {
        "colab": {
          "base_uri": "https://localhost:8080/"
        },
        "outputId": "0bc01157-4d55-4cdb-9ee7-799737f66a73",
        "id": "t8iYS-1DiFwU"
      },
      "execution_count": 26,
      "outputs": [
        {
          "output_type": "stream",
          "name": "stdout",
          "text": [
            "The cost of coverage is not explicitly mentioned in the provided context. Therefore, I don't know.\n"
          ]
        }
      ]
    },
    {
      "cell_type": "code",
      "source": [],
      "metadata": {
        "id": "1J2LjcQtf8KY"
      },
      "execution_count": null,
      "outputs": []
    }
  ]
}